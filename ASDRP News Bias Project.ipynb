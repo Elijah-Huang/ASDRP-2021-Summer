{
 "cells": [
  {
   "cell_type": "code",
   "execution_count": 2,
   "metadata": {},
   "outputs": [],
   "source": [
    "# import statements\n",
    "import pandas as pd\n",
    "import numpy as np\n",
    "from datascience import *\n",
    "import matplotlib.pyplot as plt\n",
    "from matplotlib import pyplot\n",
    "%matplotlib inline\n",
    "import matplotlib"
   ]
  },
  {
   "cell_type": "code",
   "execution_count": 50,
   "metadata": {},
   "outputs": [],
   "source": [
    "# DO NOT run this cell twice or it will override all the data preprocessing\n",
    "# reads in each sheet of data\n",
    "data_google = Table().read_table(\"google.csv\").drop('Headline','Article')\n",
    "data_yahoo = Table().read_table(\"yahoo.csv\").drop('Headline','Article')\n",
    "data_apple = Table().read_table(\"apple.csv\").drop('Top Stories','Article','Unnamed: 10','Factual Reporting','Unnamed: 12','(probably not needed)')\n",
    "data_interactive_mb = Table().read_table(\"interactive_mb.csv\")"
   ]
  },
  {
   "cell_type": "markdown",
   "metadata": {},
   "source": [
    "# DATA PREPROCESSING"
   ]
  },
  {
   "cell_type": "code",
   "execution_count": 51,
   "metadata": {
    "scrolled": true
   },
   "outputs": [
    {
     "data": {
      "text/html": [
       "<table border=\"1\" class=\"dataframe\">\n",
       "    <thead>\n",
       "        <tr>\n",
       "            <th>Publication</th> <th>MB/FC Slant</th> <th>Rank Number</th> <th>Date Recorded</th> <th>Within 24 hours?</th> <th>Reliability Range</th> <th>Bias Range</th> <th>Audience</th>\n",
       "        </tr>\n",
       "    </thead>\n",
       "    <tbody>\n",
       "        <tr>\n",
       "            <td>The Texas Tribune  </td> <td>Left-Center</td> <td>1          </td> <td>July 11, 2021</td> <td>nan             </td> <td>nan              </td> <td>nan       </td> <td>nan       </td>\n",
       "        </tr>\n",
       "        <tr>\n",
       "            <td>National Geographic</td> <td>Pro-Science</td> <td>2          </td> <td>July 11, 2021</td> <td>nan             </td> <td>46.11            </td> <td>-2.58     </td> <td>nan       </td>\n",
       "        </tr>\n",
       "        <tr>\n",
       "            <td>CNN                </td> <td>Left       </td> <td>3          </td> <td>July 11, 2021</td> <td>nan             </td> <td>43.77            </td> <td>-8.78     </td> <td>79,900,000</td>\n",
       "        </tr>\n",
       "        <tr>\n",
       "            <td>ESPN               </td> <td>Left-Center</td> <td>4          </td> <td>July 11, 2021</td> <td>nan             </td> <td>nan              </td> <td>nan       </td> <td>nan       </td>\n",
       "        </tr>\n",
       "        <tr>\n",
       "            <td>The Washington Post</td> <td>Left-Center</td> <td>5          </td> <td>July 11, 2021</td> <td>nan             </td> <td>44.05            </td> <td>-7.42     </td> <td>76,195,000</td>\n",
       "        </tr>\n",
       "        <tr>\n",
       "            <td>Miami Herald       </td> <td>Left-Center</td> <td>6          </td> <td>July 11, 2021</td> <td>nan             </td> <td>46.7             </td> <td>-3.86     </td> <td>nan       </td>\n",
       "        </tr>\n",
       "        <tr>\n",
       "            <td>The Guardian       </td> <td>Left-Center</td> <td>7          </td> <td>July 11, 2021</td> <td>nan             </td> <td>44.42            </td> <td>-9.93     </td> <td>88,750,000</td>\n",
       "        </tr>\n",
       "        <tr>\n",
       "            <td>REUTERS            </td> <td>Neutral    </td> <td>8          </td> <td>July 11, 2021</td> <td>nan             </td> <td>49.3             </td> <td>-1.65     </td> <td>40,574,000</td>\n",
       "        </tr>\n",
       "        <tr>\n",
       "            <td>REUTERS            </td> <td>Neutral    </td> <td>9          </td> <td>July 11, 2021</td> <td>nan             </td> <td>49.3             </td> <td>-1.65     </td> <td>40,574,000</td>\n",
       "        </tr>\n",
       "        <tr>\n",
       "            <td>ESPN               </td> <td>Left-Center</td> <td>10         </td> <td>July 11, 2021</td> <td>nan             </td> <td>nan              </td> <td>nan       </td> <td>nan       </td>\n",
       "        </tr>\n",
       "    </tbody>\n",
       "</table>\n",
       "<p>... (515 rows omitted)</p>"
      ],
      "text/plain": [
       "Publication         | MB/FC Slant | Rank Number | Date Recorded | Within 24 hours? | Reliability Range | Bias Range | Audience\n",
       "The Texas Tribune   | Left-Center | 1           | July 11, 2021 | nan              | nan               | nan        | nan\n",
       "National Geographic | Pro-Science | 2           | July 11, 2021 | nan              | 46.11             | -2.58      | nan\n",
       "CNN                 | Left        | 3           | July 11, 2021 | nan              | 43.77             | -8.78      | 79,900,000\n",
       "ESPN                | Left-Center | 4           | July 11, 2021 | nan              | nan               | nan        | nan\n",
       "The Washington Post | Left-Center | 5           | July 11, 2021 | nan              | 44.05             | -7.42      | 76,195,000\n",
       "Miami Herald        | Left-Center | 6           | July 11, 2021 | nan              | 46.7              | -3.86      | nan\n",
       "The Guardian        | Left-Center | 7           | July 11, 2021 | nan              | 44.42             | -9.93      | 88,750,000\n",
       "REUTERS             | Neutral     | 8           | July 11, 2021 | nan              | 49.3              | -1.65      | 40,574,000\n",
       "REUTERS             | Neutral     | 9           | July 11, 2021 | nan              | 49.3              | -1.65      | 40,574,000\n",
       "ESPN                | Left-Center | 10          | July 11, 2021 | nan              | nan               | nan        | nan\n",
       "... (515 rows omitted)"
      ]
     },
     "execution_count": 51,
     "metadata": {},
     "output_type": "execute_result"
    }
   ],
   "source": [
    "# adding interactive MB values for Google news\n",
    "reliability_range = []\n",
    "bias_range = []\n",
    "audience = []\n",
    "for i in range(data_google.num_rows): # for loop iterates through each google row\n",
    "    publication = data_google.column(0).item(i)\n",
    "    bool = False\n",
    "    for k in range(data_interactive_mb.num_rows): # for loop iterates through each interactive MB source\n",
    "        if (publication == data_interactive_mb.column(0).item(k)):\n",
    "            reliability_range.append(data_interactive_mb.column(1).item(k))\n",
    "            bias_range.append(data_interactive_mb.column(2).item(k))\n",
    "            audience.append(data_interactive_mb.column(3).item(k))\n",
    "            bool = True\n",
    "    if bool == False:\n",
    "        reliability_range.append(np.nan) # nan for values not listed\n",
    "        bias_range.append(np.nan) # nan for values not listed\n",
    "        audience.append(np.nan) # nan for values not listed\n",
    "\n",
    "data_google = data_google.drop('Reliability Range (Interactive MB)','Bias Range (Interactive MB)','Audience (Interactive MB)').with_columns('Reliability Range',reliability_range,\n",
    "                                                                                                                             'Bias Range',bias_range,\n",
    "                                                                                                                             'Audience',audience)\n",
    "# adding interactive MB values for Yahoo news\n",
    "reliability_range = []\n",
    "bias_range = []\n",
    "audience = []\n",
    "for i in range(data_yahoo.num_rows): # for loop iterates through each yahoo row\n",
    "    publication = data_yahoo.column(0).item(i)\n",
    "    bool = False\n",
    "    for k in range(data_interactive_mb.num_rows): # for loop iterates through each interactive MB source\n",
    "        if (publication == data_interactive_mb.column(0).item(k)):\n",
    "            reliability_range.append(data_interactive_mb.column(1).item(k))\n",
    "            bias_range.append(data_interactive_mb.column(2).item(k))\n",
    "            audience.append(data_interactive_mb.column(3).item(k))\n",
    "            bool = True\n",
    "    if bool == False:\n",
    "        reliability_range.append(np.nan) # nan for values not listed\n",
    "        bias_range.append(np.nan) # nan for values not listed\n",
    "        audience.append(np.nan) # nan for values not listed\n",
    "\n",
    "data_yahoo = data_yahoo.drop('Reliability Range (Interactive MB)','Bias Range (Interactive MB)','Audience (Interactive MB)').with_columns('Reliability Range',reliability_range,\n",
    "                                                                                                                             'Bias Range',bias_range,\n",
    "                                                                                                                             'Audience',audience)\n",
    "# adding interactive MB values for Apple news\n",
    "reliability_range = []\n",
    "bias_range = []\n",
    "audience = []\n",
    "for i in range(data_apple.num_rows): # for loop iterates through each apple row\n",
    "    publication = data_apple.column(0).item(i)\n",
    "    bool = False\n",
    "    for k in range(data_interactive_mb.num_rows): # for loop iterates through each interactive MB source\n",
    "        if (publication == data_interactive_mb.column(0).item(k)):\n",
    "            reliability_range.append(data_interactive_mb.column(1).item(k))\n",
    "            bias_range.append(data_interactive_mb.column(2).item(k))\n",
    "            audience.append(data_interactive_mb.column(3).item(k))\n",
    "            bool = True\n",
    "    if bool == False:\n",
    "        reliability_range.append(np.nan) # nan for values not listed\n",
    "        bias_range.append(np.nan) # nan for values not listed\n",
    "        audience.append(np.nan) # nan for values not listed\n",
    "\n",
    "data_apple = data_apple.drop('Reliability Range (Interactive MB)','Bias Range (Interactive MB)','Audience (Interactive MB)').with_columns('Reliability Range',reliability_range,\n",
    "                                                                                                                             'Bias Range',bias_range,\n",
    "                                                                                                                             'Audience',audience)\n",
    "data_apple"
   ]
  },
  {
   "cell_type": "code",
   "execution_count": 52,
   "metadata": {
    "scrolled": true
   },
   "outputs": [
    {
     "data": {
      "text/html": [
       "<table border=\"1\" class=\"dataframe\">\n",
       "    <thead>\n",
       "        <tr>\n",
       "            <th>Publication</th> <th>MB/FC Slant</th> <th>Rank Number</th> <th>Date Recorded</th> <th>Within 24 hours?</th> <th>Reliability Range</th> <th>Bias Range</th> <th>Audience</th> <th>New MB/FC Slant</th>\n",
       "        </tr>\n",
       "    </thead>\n",
       "    <tbody>\n",
       "        <tr>\n",
       "            <td>The Texas Tribune  </td> <td>Left-Center</td> <td>1          </td> <td>July 11, 2021</td> <td>nan             </td> <td>nan              </td> <td>nan       </td> <td>nan       </td> <td>2              </td>\n",
       "        </tr>\n",
       "        <tr>\n",
       "            <td>National Geographic</td> <td>Pro-Science</td> <td>2          </td> <td>July 11, 2021</td> <td>nan             </td> <td>46.11            </td> <td>-2.58     </td> <td>nan       </td> <td>3              </td>\n",
       "        </tr>\n",
       "        <tr>\n",
       "            <td>CNN                </td> <td>Left       </td> <td>3          </td> <td>July 11, 2021</td> <td>nan             </td> <td>43.77            </td> <td>-8.78     </td> <td>79,900,000</td> <td>1              </td>\n",
       "        </tr>\n",
       "        <tr>\n",
       "            <td>ESPN               </td> <td>Left-Center</td> <td>4          </td> <td>July 11, 2021</td> <td>nan             </td> <td>nan              </td> <td>nan       </td> <td>nan       </td> <td>2              </td>\n",
       "        </tr>\n",
       "        <tr>\n",
       "            <td>The Washington Post</td> <td>Left-Center</td> <td>5          </td> <td>July 11, 2021</td> <td>nan             </td> <td>44.05            </td> <td>-7.42     </td> <td>76,195,000</td> <td>2              </td>\n",
       "        </tr>\n",
       "        <tr>\n",
       "            <td>Miami Herald       </td> <td>Left-Center</td> <td>6          </td> <td>July 11, 2021</td> <td>nan             </td> <td>46.7             </td> <td>-3.86     </td> <td>nan       </td> <td>2              </td>\n",
       "        </tr>\n",
       "        <tr>\n",
       "            <td>The Guardian       </td> <td>Left-Center</td> <td>7          </td> <td>July 11, 2021</td> <td>nan             </td> <td>44.42            </td> <td>-9.93     </td> <td>88,750,000</td> <td>2              </td>\n",
       "        </tr>\n",
       "        <tr>\n",
       "            <td>REUTERS            </td> <td>Neutral    </td> <td>8          </td> <td>July 11, 2021</td> <td>nan             </td> <td>49.3             </td> <td>-1.65     </td> <td>40,574,000</td> <td>3              </td>\n",
       "        </tr>\n",
       "        <tr>\n",
       "            <td>REUTERS            </td> <td>Neutral    </td> <td>9          </td> <td>July 11, 2021</td> <td>nan             </td> <td>49.3             </td> <td>-1.65     </td> <td>40,574,000</td> <td>3              </td>\n",
       "        </tr>\n",
       "        <tr>\n",
       "            <td>ESPN               </td> <td>Left-Center</td> <td>10         </td> <td>July 11, 2021</td> <td>nan             </td> <td>nan              </td> <td>nan       </td> <td>nan       </td> <td>2              </td>\n",
       "        </tr>\n",
       "    </tbody>\n",
       "</table>\n",
       "<p>... (515 rows omitted)</p>"
      ],
      "text/plain": [
       "Publication         | MB/FC Slant | Rank Number | Date Recorded | Within 24 hours? | Reliability Range | Bias Range | Audience   | New MB/FC Slant\n",
       "The Texas Tribune   | Left-Center | 1           | July 11, 2021 | nan              | nan               | nan        | nan        | 2\n",
       "National Geographic | Pro-Science | 2           | July 11, 2021 | nan              | 46.11             | -2.58      | nan        | 3\n",
       "CNN                 | Left        | 3           | July 11, 2021 | nan              | 43.77             | -8.78      | 79,900,000 | 1\n",
       "ESPN                | Left-Center | 4           | July 11, 2021 | nan              | nan               | nan        | nan        | 2\n",
       "The Washington Post | Left-Center | 5           | July 11, 2021 | nan              | 44.05             | -7.42      | 76,195,000 | 2\n",
       "Miami Herald        | Left-Center | 6           | July 11, 2021 | nan              | 46.7              | -3.86      | nan        | 2\n",
       "The Guardian        | Left-Center | 7           | July 11, 2021 | nan              | 44.42             | -9.93      | 88,750,000 | 2\n",
       "REUTERS             | Neutral     | 8           | July 11, 2021 | nan              | 49.3              | -1.65      | 40,574,000 | 3\n",
       "REUTERS             | Neutral     | 9           | July 11, 2021 | nan              | 49.3              | -1.65      | 40,574,000 | 3\n",
       "ESPN                | Left-Center | 10          | July 11, 2021 | nan              | nan               | nan        | nan        | 2\n",
       "... (515 rows omitted)"
      ]
     },
     "execution_count": 52,
     "metadata": {},
     "output_type": "execute_result"
    }
   ],
   "source": [
    "# replacing 'MB/FC Slant' values with numbers from 1-5\n",
    "# Left - 1, Left-Center - 2, Pro-Science - 2, Neutral - 3, Unknown - 3, nan - 3, Right-Center - 4, Right - 5\n",
    "\n",
    "# replacing Google's values\n",
    "new_slants = []\n",
    "for i in data_google.column('MB/FC Slant'):\n",
    "    if (i == 'Left'):\n",
    "        new_slants.append(1)\n",
    "    elif (i == 'Left-Center'):\n",
    "        new_slants.append(2)\n",
    "    elif (i == 'Neutral'):\n",
    "        new_slants.append(3)\n",
    "    elif (i == 'Right-Center'):\n",
    "        new_slants.append(4)\n",
    "    elif (i == 'Right'):\n",
    "        new_slants.append(5)\n",
    "    else:\n",
    "        new_slants.append(3)\n",
    "data_google = data_google.with_column('New MB/FC Slant',new_slants)\n",
    "\n",
    "# replacing Yahoo's values\n",
    "new_slants = []\n",
    "for i in data_yahoo.column('MB/FC Slant'):\n",
    "    if (i == 'Left'):\n",
    "        new_slants.append(1)\n",
    "    elif (i == 'Left-Center'):\n",
    "        new_slants.append(2)\n",
    "    elif (i == 'Neutral'):\n",
    "        new_slants.append(3)\n",
    "    elif (i == 'Right-Center'):\n",
    "        new_slants.append(4)\n",
    "    elif (i == 'Right'):\n",
    "        new_slants.append(5)\n",
    "    else:\n",
    "        new_slants.append(3)\n",
    "data_yahoo = data_yahoo.with_column('New MB/FC Slant',new_slants)\n",
    "\n",
    "# replacing Apple's values\n",
    "new_slants = []\n",
    "for i in data_apple.column('MB/FC Slant'):\n",
    "    if (i == 'Left'):\n",
    "        new_slants.append(1)\n",
    "    elif (i == 'Left-Center'):\n",
    "        new_slants.append(2)\n",
    "    elif (i == 'Neutral'):\n",
    "        new_slants.append(3)\n",
    "    elif (i == 'Right-Center'):\n",
    "        new_slants.append(4)\n",
    "    elif (i == 'Right'):\n",
    "        new_slants.append(5)\n",
    "    else:\n",
    "        new_slants.append(3)\n",
    "data_apple = data_apple.with_column('New MB/FC Slant',new_slants)\n",
    "data_apple"
   ]
  },
  {
   "cell_type": "markdown",
   "metadata": {},
   "source": [
    "# ALL TABLES"
   ]
  },
  {
   "cell_type": "code",
   "execution_count": 54,
   "metadata": {
    "scrolled": true
   },
   "outputs": [
    {
     "data": {
      "text/html": [
       "<table border=\"1\" class=\"dataframe\">\n",
       "    <thead>\n",
       "        <tr>\n",
       "            <th>Publication</th> <th>MB/FC Slant</th> <th>Rank Number</th> <th>Date Recorded</th> <th>Within 24 Hours?</th> <th>Bipartisan Press Bias</th> <th>Reliability Range</th> <th>Bias Range</th> <th>Audience</th> <th>New MB/FC Slant</th>\n",
       "        </tr>\n",
       "    </thead>\n",
       "    <tbody>\n",
       "        <tr>\n",
       "            <td>The Hill        </td> <td>Neutral    </td> <td>1          </td> <td>July 11, 2021</td> <td>1               </td> <td>-1.083446            </td> <td>44.99            </td> <td>-0.38     </td> <td>24,400,000</td> <td>3              </td>\n",
       "        </tr>\n",
       "        <tr>\n",
       "            <td>CNN             </td> <td>Left       </td> <td>2          </td> <td>July 11, 2021</td> <td>1               </td> <td>BADLINK              </td> <td>43.77            </td> <td>-8.78     </td> <td>79,900,000</td> <td>1              </td>\n",
       "        </tr>\n",
       "        <tr>\n",
       "            <td>Yahoo News      </td> <td>Left       </td> <td>3          </td> <td>July 11, 2021</td> <td>1               </td> <td>-7.042858            </td> <td>nan              </td> <td>nan       </td> <td>nan       </td> <td>1              </td>\n",
       "        </tr>\n",
       "        <tr>\n",
       "            <td>NBC News        </td> <td>Left-Center</td> <td>4          </td> <td>July 11, 2021</td> <td>1               </td> <td>-1.594434            </td> <td>45.81            </td> <td>-7.46     </td> <td>26,225,000</td> <td>2              </td>\n",
       "        </tr>\n",
       "        <tr>\n",
       "            <td>Fox News        </td> <td>Right      </td> <td>5          </td> <td>July 11, 2021</td> <td>1               </td> <td>7.10045              </td> <td>nan              </td> <td>nan       </td> <td>nan       </td> <td>5              </td>\n",
       "        </tr>\n",
       "        <tr>\n",
       "            <td>POLITICO        </td> <td>Left-Center</td> <td>6          </td> <td>July 11, 2021</td> <td>1               </td> <td>-0.875597            </td> <td>nan              </td> <td>nan       </td> <td>nan       </td> <td>2              </td>\n",
       "        </tr>\n",
       "        <tr>\n",
       "            <td>ABC News        </td> <td>Left-Center</td> <td>7          </td> <td>July 11, 2021</td> <td>1               </td> <td>0.722995             </td> <td>47.28            </td> <td>-4.9      </td> <td>39,500,000</td> <td>2              </td>\n",
       "        </tr>\n",
       "        <tr>\n",
       "            <td>Business Insider</td> <td>Left-Center</td> <td>8          </td> <td>July 11, 2021</td> <td>1               </td> <td>-2.200581            </td> <td>nan              </td> <td>nan       </td> <td>nan       </td> <td>2              </td>\n",
       "        </tr>\n",
       "        <tr>\n",
       "            <td>CNN             </td> <td>Left       </td> <td>9          </td> <td>July 11, 2021</td> <td>1               </td> <td>BADLINK              </td> <td>43.77            </td> <td>-8.78     </td> <td>79,900,000</td> <td>1              </td>\n",
       "        </tr>\n",
       "        <tr>\n",
       "            <td>The Hill        </td> <td>Neutral    </td> <td>10         </td> <td>July 11, 2021</td> <td>1               </td> <td>-11.197803           </td> <td>44.99            </td> <td>-0.38     </td> <td>24,400,000</td> <td>3              </td>\n",
       "        </tr>\n",
       "    </tbody>\n",
       "</table>\n",
       "<p>... (547 rows omitted)</p>"
      ],
      "text/plain": [
       "Publication      | MB/FC Slant | Rank Number | Date Recorded | Within 24 Hours? | Bipartisan Press Bias | Reliability Range | Bias Range | Audience   | New MB/FC Slant\n",
       "The Hill         | Neutral     | 1           | July 11, 2021 | 1                | -1.083446             | 44.99             | -0.38      | 24,400,000 | 3\n",
       "CNN              | Left        | 2           | July 11, 2021 | 1                | BADLINK               | 43.77             | -8.78      | 79,900,000 | 1\n",
       "Yahoo News       | Left        | 3           | July 11, 2021 | 1                | -7.042858             | nan               | nan        | nan        | 1\n",
       "NBC News         | Left-Center | 4           | July 11, 2021 | 1                | -1.594434             | 45.81             | -7.46      | 26,225,000 | 2\n",
       "Fox News         | Right       | 5           | July 11, 2021 | 1                | 7.10045               | nan               | nan        | nan        | 5\n",
       "POLITICO         | Left-Center | 6           | July 11, 2021 | 1                | -0.875597             | nan               | nan        | nan        | 2\n",
       "ABC News         | Left-Center | 7           | July 11, 2021 | 1                | 0.722995              | 47.28             | -4.9       | 39,500,000 | 2\n",
       "Business Insider | Left-Center | 8           | July 11, 2021 | 1                | -2.200581             | nan               | nan        | nan        | 2\n",
       "CNN              | Left        | 9           | July 11, 2021 | 1                | BADLINK               | 43.77             | -8.78      | 79,900,000 | 1\n",
       "The Hill         | Neutral     | 10          | July 11, 2021 | 1                | -11.197803            | 44.99             | -0.38      | 24,400,000 | 3\n",
       "... (547 rows omitted)"
      ]
     },
     "execution_count": 54,
     "metadata": {},
     "output_type": "execute_result"
    }
   ],
   "source": [
    "data_google"
   ]
  },
  {
   "cell_type": "code",
   "execution_count": 55,
   "metadata": {
    "scrolled": true
   },
   "outputs": [
    {
     "data": {
      "text/html": [
       "<table border=\"1\" class=\"dataframe\">\n",
       "    <thead>\n",
       "        <tr>\n",
       "            <th>Publication</th> <th>MB/FC Slant</th> <th>Rank Number</th> <th>Date Recorded</th> <th>Within 24 Hours?</th> <th>Reliability Range</th> <th>Bias Range</th> <th>Audience</th> <th>New MB/FC Slant</th>\n",
       "        </tr>\n",
       "    </thead>\n",
       "    <tbody>\n",
       "        <tr>\n",
       "            <td>Yahoo News         </td> <td>Left-Center</td> <td>1          </td> <td>July 11, 2021</td> <td>1               </td> <td>nan              </td> <td>nan       </td> <td>nan       </td> <td>2              </td>\n",
       "        </tr>\n",
       "        <tr>\n",
       "            <td>Yahoo News 360     </td> <td>Left-Center</td> <td>2          </td> <td>July 11, 2021</td> <td>1               </td> <td>nan              </td> <td>nan       </td> <td>nan       </td> <td>2              </td>\n",
       "        </tr>\n",
       "        <tr>\n",
       "            <td>Reuters            </td> <td>Neutral    </td> <td>3          </td> <td>July 11, 2021</td> <td>1               </td> <td>49.3             </td> <td>-1.65     </td> <td>40,574,000</td> <td>3              </td>\n",
       "        </tr>\n",
       "        <tr>\n",
       "            <td>Washington Examiner</td> <td>Right      </td> <td>4          </td> <td>July 11, 2021</td> <td>1               </td> <td>nan              </td> <td>nan       </td> <td>nan       </td> <td>5              </td>\n",
       "        </tr>\n",
       "        <tr>\n",
       "            <td>Associated Press   </td> <td>Neutral    </td> <td>5          </td> <td>July 11, 2021</td> <td>1               </td> <td>nan              </td> <td>nan       </td> <td>nan       </td> <td>3              </td>\n",
       "        </tr>\n",
       "        <tr>\n",
       "            <td>The Week           </td> <td>Left       </td> <td>6          </td> <td>July 11, 2021</td> <td>1               </td> <td>nan              </td> <td>nan       </td> <td>nan       </td> <td>1              </td>\n",
       "        </tr>\n",
       "        <tr>\n",
       "            <td>Washington Examiner</td> <td>Right      </td> <td>7          </td> <td>July 11, 2021</td> <td>1               </td> <td>nan              </td> <td>nan       </td> <td>nan       </td> <td>5              </td>\n",
       "        </tr>\n",
       "        <tr>\n",
       "            <td>Associated Press   </td> <td>Neutral    </td> <td>8          </td> <td>July 11, 2021</td> <td>1               </td> <td>nan              </td> <td>nan       </td> <td>nan       </td> <td>3              </td>\n",
       "        </tr>\n",
       "        <tr>\n",
       "            <td>Axios              </td> <td>Left-Center</td> <td>9          </td> <td>July 11, 2021</td> <td>1               </td> <td>nan              </td> <td>nan       </td> <td>nan       </td> <td>2              </td>\n",
       "        </tr>\n",
       "        <tr>\n",
       "            <td>BBC                </td> <td>Left-Center</td> <td>10         </td> <td>July 11, 2021</td> <td>1               </td> <td>nan              </td> <td>nan       </td> <td>nan       </td> <td>2              </td>\n",
       "        </tr>\n",
       "    </tbody>\n",
       "</table>\n",
       "<p>... (535 rows omitted)</p>"
      ],
      "text/plain": [
       "Publication         | MB/FC Slant | Rank Number | Date Recorded | Within 24 Hours? | Reliability Range | Bias Range | Audience   | New MB/FC Slant\n",
       "Yahoo News          | Left-Center | 1           | July 11, 2021 | 1                | nan               | nan        | nan        | 2\n",
       "Yahoo News 360      | Left-Center | 2           | July 11, 2021 | 1                | nan               | nan        | nan        | 2\n",
       "Reuters             | Neutral     | 3           | July 11, 2021 | 1                | 49.3              | -1.65      | 40,574,000 | 3\n",
       "Washington Examiner | Right       | 4           | July 11, 2021 | 1                | nan               | nan        | nan        | 5\n",
       "Associated Press    | Neutral     | 5           | July 11, 2021 | 1                | nan               | nan        | nan        | 3\n",
       "The Week            | Left        | 6           | July 11, 2021 | 1                | nan               | nan        | nan        | 1\n",
       "Washington Examiner | Right       | 7           | July 11, 2021 | 1                | nan               | nan        | nan        | 5\n",
       "Associated Press    | Neutral     | 8           | July 11, 2021 | 1                | nan               | nan        | nan        | 3\n",
       "Axios               | Left-Center | 9           | July 11, 2021 | 1                | nan               | nan        | nan        | 2\n",
       "BBC                 | Left-Center | 10          | July 11, 2021 | 1                | nan               | nan        | nan        | 2\n",
       "... (535 rows omitted)"
      ]
     },
     "execution_count": 55,
     "metadata": {},
     "output_type": "execute_result"
    }
   ],
   "source": [
    "data_yahoo"
   ]
  },
  {
   "cell_type": "code",
   "execution_count": 56,
   "metadata": {
    "scrolled": true
   },
   "outputs": [
    {
     "data": {
      "text/html": [
       "<table border=\"1\" class=\"dataframe\">\n",
       "    <thead>\n",
       "        <tr>\n",
       "            <th>Publication</th> <th>MB/FC Slant</th> <th>Rank Number</th> <th>Date Recorded</th> <th>Within 24 hours?</th> <th>Reliability Range</th> <th>Bias Range</th> <th>Audience</th> <th>New MB/FC Slant</th>\n",
       "        </tr>\n",
       "    </thead>\n",
       "    <tbody>\n",
       "        <tr>\n",
       "            <td>The Texas Tribune  </td> <td>Left-Center</td> <td>1          </td> <td>July 11, 2021</td> <td>nan             </td> <td>nan              </td> <td>nan       </td> <td>nan       </td> <td>2              </td>\n",
       "        </tr>\n",
       "        <tr>\n",
       "            <td>National Geographic</td> <td>Pro-Science</td> <td>2          </td> <td>July 11, 2021</td> <td>nan             </td> <td>46.11            </td> <td>-2.58     </td> <td>nan       </td> <td>3              </td>\n",
       "        </tr>\n",
       "        <tr>\n",
       "            <td>CNN                </td> <td>Left       </td> <td>3          </td> <td>July 11, 2021</td> <td>nan             </td> <td>43.77            </td> <td>-8.78     </td> <td>79,900,000</td> <td>1              </td>\n",
       "        </tr>\n",
       "        <tr>\n",
       "            <td>ESPN               </td> <td>Left-Center</td> <td>4          </td> <td>July 11, 2021</td> <td>nan             </td> <td>nan              </td> <td>nan       </td> <td>nan       </td> <td>2              </td>\n",
       "        </tr>\n",
       "        <tr>\n",
       "            <td>The Washington Post</td> <td>Left-Center</td> <td>5          </td> <td>July 11, 2021</td> <td>nan             </td> <td>44.05            </td> <td>-7.42     </td> <td>76,195,000</td> <td>2              </td>\n",
       "        </tr>\n",
       "        <tr>\n",
       "            <td>Miami Herald       </td> <td>Left-Center</td> <td>6          </td> <td>July 11, 2021</td> <td>nan             </td> <td>46.7             </td> <td>-3.86     </td> <td>nan       </td> <td>2              </td>\n",
       "        </tr>\n",
       "        <tr>\n",
       "            <td>The Guardian       </td> <td>Left-Center</td> <td>7          </td> <td>July 11, 2021</td> <td>nan             </td> <td>44.42            </td> <td>-9.93     </td> <td>88,750,000</td> <td>2              </td>\n",
       "        </tr>\n",
       "        <tr>\n",
       "            <td>REUTERS            </td> <td>Neutral    </td> <td>8          </td> <td>July 11, 2021</td> <td>nan             </td> <td>49.3             </td> <td>-1.65     </td> <td>40,574,000</td> <td>3              </td>\n",
       "        </tr>\n",
       "        <tr>\n",
       "            <td>REUTERS            </td> <td>Neutral    </td> <td>9          </td> <td>July 11, 2021</td> <td>nan             </td> <td>49.3             </td> <td>-1.65     </td> <td>40,574,000</td> <td>3              </td>\n",
       "        </tr>\n",
       "        <tr>\n",
       "            <td>ESPN               </td> <td>Left-Center</td> <td>10         </td> <td>July 11, 2021</td> <td>nan             </td> <td>nan              </td> <td>nan       </td> <td>nan       </td> <td>2              </td>\n",
       "        </tr>\n",
       "    </tbody>\n",
       "</table>\n",
       "<p>... (515 rows omitted)</p>"
      ],
      "text/plain": [
       "Publication         | MB/FC Slant | Rank Number | Date Recorded | Within 24 hours? | Reliability Range | Bias Range | Audience   | New MB/FC Slant\n",
       "The Texas Tribune   | Left-Center | 1           | July 11, 2021 | nan              | nan               | nan        | nan        | 2\n",
       "National Geographic | Pro-Science | 2           | July 11, 2021 | nan              | 46.11             | -2.58      | nan        | 3\n",
       "CNN                 | Left        | 3           | July 11, 2021 | nan              | 43.77             | -8.78      | 79,900,000 | 1\n",
       "ESPN                | Left-Center | 4           | July 11, 2021 | nan              | nan               | nan        | nan        | 2\n",
       "The Washington Post | Left-Center | 5           | July 11, 2021 | nan              | 44.05             | -7.42      | 76,195,000 | 2\n",
       "Miami Herald        | Left-Center | 6           | July 11, 2021 | nan              | 46.7              | -3.86      | nan        | 2\n",
       "The Guardian        | Left-Center | 7           | July 11, 2021 | nan              | 44.42             | -9.93      | 88,750,000 | 2\n",
       "REUTERS             | Neutral     | 8           | July 11, 2021 | nan              | 49.3              | -1.65      | 40,574,000 | 3\n",
       "REUTERS             | Neutral     | 9           | July 11, 2021 | nan              | 49.3              | -1.65      | 40,574,000 | 3\n",
       "ESPN                | Left-Center | 10          | July 11, 2021 | nan              | nan               | nan        | nan        | 2\n",
       "... (515 rows omitted)"
      ]
     },
     "execution_count": 56,
     "metadata": {},
     "output_type": "execute_result"
    }
   ],
   "source": [
    "data_apple"
   ]
  },
  {
   "cell_type": "markdown",
   "metadata": {},
   "source": [
    "# Z-TEST"
   ]
  },
  {
   "cell_type": "code",
   "execution_count": 128,
   "metadata": {},
   "outputs": [],
   "source": [
    "from statsmodels.stats import weightstats as stests"
   ]
  },
  {
   "cell_type": "code",
   "execution_count": 86,
   "metadata": {},
   "outputs": [
    {
     "name": "stdout",
     "output_type": "stream",
     "text": [
      "1.9743992492912942e-17\n"
     ]
    }
   ],
   "source": [
    "# z-test with 2 sources\n",
    "ztest, pval = stests.ztest(x1=data_yahoo.column('New MB/FC Slant'), x2=data_apple.column('New MB/FC Slant'))#,\n",
    "                           #value=0.2582713516286228, alternative = 'two-sided')\n",
    "print(float(pval))\n",
    "\n",
    "# result is 5.670895992665408e-06 for Google/Apple without \"value\" and \"alternative\" parameters"
   ]
  },
  {
   "cell_type": "code",
   "execution_count": 136,
   "metadata": {},
   "outputs": [
    {
     "name": "stdout",
     "output_type": "stream",
     "text": [
      "0.007670145808818254\n"
     ]
    }
   ],
   "source": [
    "# z-test with 2 sources\n",
    "ztest, pval = stests.ztest(x1=data_yahoo.column('New MB/FC Slant'), x2=data_google.column('New MB/FC Slant'))#,\n",
    "                           #value=0.2582713516286228, alternative = 'two-sided')\n",
    "print(float(pval))\n",
    "\n",
    "# result is 5.670895992665408e-06 for Google/Apple without \"value\" and \"alternative\" parameters"
   ]
  },
  {
   "cell_type": "code",
   "execution_count": 140,
   "metadata": {},
   "outputs": [
    {
     "name": "stdout",
     "output_type": "stream",
     "text": [
      "0.007670145808818254\n",
      "2.6662551390716454\n"
     ]
    }
   ],
   "source": [
    "# z-test with 2 sources\n",
    "ztest, pval = stests.ztest(x1=data_yahoo.column('New MB/FC Slant'), x2=data_google.column('New MB/FC Slant'))#,\n",
    "                           #value=0.2582713516286228, alternative = 'two-sided')\n",
    "print(float(pval))\n",
    "print(float(ztest))\n",
    "\n",
    "# result is 5.670895992665408e-06 for Google/Apple without \"value\" and \"alternative\" parameters"
   ]
  },
  {
   "cell_type": "markdown",
   "metadata": {},
   "source": [
    "# ANOVA"
   ]
  },
  {
   "cell_type": "code",
   "execution_count": 142,
   "metadata": {},
   "outputs": [
    {
     "name": "stdout",
     "output_type": "stream",
     "text": [
      "p-value for significance is:  5.943315037059893e-13\n",
      "28.645019091042773\n"
     ]
    }
   ],
   "source": [
    "from scipy.stats import f_oneway\n",
    "F, p = f_oneway(data_google.column('New MB/FC Slant'),data_yahoo.column('New MB/FC Slant'),\n",
    "                data_apple.column('New MB/FC Slant'))\n",
    "print(\"p-value for significance is: \", p)\n",
    "print(F)"
   ]
  },
  {
   "cell_type": "markdown",
   "metadata": {},
   "source": [
    "# Visualizations"
   ]
  },
  {
   "cell_type": "code",
   "execution_count": 153,
   "metadata": {},
   "outputs": [
    {
     "data": {
      "image/png": "[encoded data removed]",
      "text/plain": [
       "<Figure size 432x288 with 1 Axes>"
      ]
     },
     "metadata": {
      "needs_background": "light"
     },
     "output_type": "display_data"
    }
   ],
   "source": [
    "x = np.arange(2)\n",
    "# y1 = [np.nanmean(data_google.column('Reliability Range')),\n",
    "#       np.nanmean(data_yahoo.column('Reliability Range')),\n",
    "#       np.nanmean(data_apple.column('Reliability Range'))]\n",
    "# y2 = [np.nanmean(data_google.column('Bias Range')),\n",
    "#       np.nanmean(data_yahoo.column('Bias Range')),\n",
    "#       np.nanmean(data_apple.column('Bias Range'))]\n",
    "\n",
    "y1 = [np.nanmean(data_google.column('Reliability Range')),\n",
    "      np.nanmean(data_google.column('Bias Range'))]\n",
    "y2 = [np.nanmean(data_yahoo.column('Reliability Range')),\n",
    "      np.nanmean(data_yahoo.column('Bias Range'))]\n",
    "y3 = [np.nanmean(data_apple.column('Reliability Range')),\n",
    "      np.nanmean(data_apple.column('Bias Range'))]\n",
    "width = 0.2\n",
    "\n",
    "# plot data in grouped manner of bar type\n",
    "plt.bar(x-0.2, y1, width, color='cyan')\n",
    "plt.bar(x, y2, width, color='orange')\n",
    "plt.bar(x+0.2, y3, width, color='green')\n",
    "plt.xticks(x, ['Reliability Range','Bias Range'])\n",
    "plt.xlabel(\"Feature\")\n",
    "plt.ylabel(\"Score\")\n",
    "plt.title('Interactive MB Average per Media Source')\n",
    "plt.legend([\"Google News\", \"Yahoo News\", \"Apple News\"])\n",
    "plt.show()"
   ]
  },
  {
   "cell_type": "code",
   "execution_count": 127,
   "metadata": {},
   "outputs": [
    {
     "data": {
      "text/plain": [
       "<matplotlib.collections.PathCollection at 0x7fb0d0323908>"
      ]
     },
     "execution_count": 127,
     "metadata": {},
     "output_type": "execute_result"
    },
    {
     "data": {
      "image/png": "[encoded data removed]",
      "text/plain": [
       "<Figure size 432x288 with 1 Axes>"
      ]
     },
     "metadata": {
      "needs_background": "light"
     },
     "output_type": "display_data"
    }
   ],
   "source": [
    "reliability_google = data_google.column('Reliability Range')\n",
    "reliability_google = reliability_google[~np.isnan(reliability_google)]\n",
    "bias_google = data_google.column('Bias Range')\n",
    "bias_google = bias_google[~np.isnan(bias_google)]\n",
    "\n",
    "plt.scatter(reliability_google,bias_google)"
   ]
  },
  {
   "cell_type": "code",
   "execution_count": 154,
   "metadata": {},
   "outputs": [
    {
     "data": {
      "image/png": "[encoded data removed]",
      "text/plain": [
       "<Figure size 432x288 with 1 Axes>"
      ]
     },
     "metadata": {
      "needs_background": "light"
     },
     "output_type": "display_data"
    }
   ],
   "source": [
    "x = np.arange(5)\n",
    "\n",
    "y1 = [68,249,160,29,51] # numbers for google news\n",
    "y2 = [25,185,294,12,29] # numbers for yahoo news\n",
    "y3 = [48,329,100,46,2] # numbers for apple news\n",
    "width = 0.2\n",
    "\n",
    "# plot data in grouped manner of bar type\n",
    "plt.bar(x-0.2, y1, width, color='cyan')\n",
    "plt.bar(x, y2, width, color='orange')\n",
    "plt.bar(x+0.2, y3, width, color='green')\n",
    "plt.xticks(x, ['Left','Left-Center','Neutral','Right-Center','Right'])\n",
    "plt.xlabel(\"Political Slant\")\n",
    "plt.ylabel(\"Number of Headlines\")\n",
    "plt.title('Number of Headlines at Each Political Slant per Media Source')\n",
    "plt.legend([\"Google News\", \"Yahoo News\", \"Apple News\"])\n",
    "plt.show()"
   ]
  },
  {
   "cell_type": "code",
   "execution_count": null,
   "metadata": {},
   "outputs": [],
   "source": []
  }
 ],
 "metadata": {
  "kernelspec": {
   "display_name": "Python 3",
   "language": "python",
   "name": "python3"
  },
  "language_info": {
   "codemirror_mode": {
    "name": "ipython",
    "version": 3
   },
   "file_extension": ".py",
   "mimetype": "text/x-python",
   "name": "python",
   "nbconvert_exporter": "python",
   "pygments_lexer": "ipython3",
   "version": "3.7.3"
  }
 },
 "nbformat": 4,
 "nbformat_minor": 2
}
